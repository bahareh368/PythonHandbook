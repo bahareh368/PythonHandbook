{
  "nbformat": 4,
  "nbformat_minor": 0,
  "metadata": {
    "colab": {
      "name": "1_chapterOne.ipynb",
      "provenance": [],
      "collapsed_sections": []
    },
    "kernelspec": {
      "name": "python3",
      "display_name": "Python 3"
    },
    "language_info": {
      "name": "python"
    }
  },
  "cells": [
    {
      "cell_type": "code",
      "metadata": {
        "id": "LPFPIaBGviaQ"
      },
      "source": [
        "chapter 1"
      ],
      "execution_count": null,
      "outputs": []
    }
  ]
}