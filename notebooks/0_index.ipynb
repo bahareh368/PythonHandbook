{
  "nbformat": 4,
  "nbformat_minor": 0,
  "metadata": {
    "colab": {
      "name": "0_index.ipynb",
      "provenance": [],
      "collapsed_sections": []
    },
    "kernelspec": {
      "name": "python3",
      "display_name": "Python 3"
    },
    "language_info": {
      "name": "python"
    }
  },
  "cells": [
    {
      "cell_type": "markdown",
      "metadata": {
        "id": "2o0C4AKI8Fw8"
      },
      "source": [
        "index\n",
        "[Chapter One](1_chapterOne.ipynb)"
      ]
    },
    {
      "cell_type": "code",
      "metadata": {
        "id": "DMxawdP_8Dly"
      },
      "source": [
        ""
      ],
      "execution_count": null,
      "outputs": []
    }
  ]
}